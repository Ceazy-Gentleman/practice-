{
  "nbformat": 4,
  "nbformat_minor": 0,
  "metadata": {
    "colab": {
      "name": "Anomaly Detection.ipynb",
      "private_outputs": true,
      "provenance": [],
      "collapsed_sections": [],
      "authorship_tag": "ABX9TyNu+qpaDNtdHEbmmnvik1nn",
      "include_colab_link": true
    },
    "kernelspec": {
      "name": "python3",
      "display_name": "Python 3"
    },
    "language_info": {
      "name": "python"
    }
  },
  "cells": [
    {
      "cell_type": "markdown",
      "metadata": {
        "id": "view-in-github",
        "colab_type": "text"
      },
      "source": [
        "<a href=\"https://colab.research.google.com/github/Ceazy-Gentleman/practice-/blob/master/Anomaly_Detection.ipynb\" target=\"_parent\"><img src=\"https://colab.research.google.com/assets/colab-badge.svg\" alt=\"Open In Colab\"/></a>"
      ]
    },
    {
      "cell_type": "code",
      "metadata": {
        "id": "pIiA9ruF-k7o"
      },
      "source": [
        "import pandas as pd\n",
        "import numpy as np\n",
        "import matplotlib.pyplot as plt\n",
        "import seaborn as sns\n",
        "%matplotlib inline"
      ],
      "execution_count": null,
      "outputs": []
    },
    {
      "cell_type": "code",
      "metadata": {
        "id": "8Srt9nc_FbEr"
      },
      "source": [
        "!pip install pycaret"
      ],
      "execution_count": null,
      "outputs": []
    },
    {
      "cell_type": "markdown",
      "metadata": {
        "id": "yeGx9bO-IDdg"
      },
      "source": [
        "# 新段落"
      ]
    },
    {
      "cell_type": "code",
      "metadata": {
        "id": "ftjA_s7gFlmn"
      },
      "source": [
        "from pycaret.datasets import get_data"
      ],
      "execution_count": null,
      "outputs": []
    },
    {
      "cell_type": "code",
      "metadata": {
        "id": "QULtxr7IHlPG"
      },
      "source": [
        "data = get_data('index')"
      ],
      "execution_count": null,
      "outputs": []
    },
    {
      "cell_type": "code",
      "metadata": {
        "id": "HEXcaaDUIBvQ"
      },
      "source": [
        "df = get_data('anomaly')"
      ],
      "execution_count": null,
      "outputs": []
    },
    {
      "cell_type": "code",
      "metadata": {
        "id": "UUEgLhBKIYnS"
      },
      "source": [
        "df.describe()"
      ],
      "execution_count": null,
      "outputs": []
    },
    {
      "cell_type": "code",
      "metadata": {
        "id": "2Qix_sITIixK"
      },
      "source": [
        "df.info()"
      ],
      "execution_count": null,
      "outputs": []
    },
    {
      "cell_type": "code",
      "metadata": {
        "id": "NIekITccIqxB"
      },
      "source": [
        "plt.rcParams['figure.figsize']=(10,8)\n",
        "sns.swarmplot(x='variable', y='value', data=pd.melt(df))"
      ],
      "execution_count": null,
      "outputs": []
    },
    {
      "cell_type": "code",
      "metadata": {
        "id": "GnErwPBvJVJC"
      },
      "source": [
        " import warnings\n",
        " warnings.filterwarnings('ignore')"
      ],
      "execution_count": null,
      "outputs": []
    },
    {
      "cell_type": "code",
      "metadata": {
        "id": "NhtwylxxLvOs"
      },
      "source": [
        "sns.boxplot(x=\"variable\",y='value',data=pd.melt(df))"
      ],
      "execution_count": null,
      "outputs": []
    },
    {
      "cell_type": "code",
      "metadata": {
        "id": "DZOzAmdV0svu"
      },
      "source": [
        "sns.scatterplot(data=df,x='Col1',y='Col2')"
      ],
      "execution_count": null,
      "outputs": []
    },
    {
      "cell_type": "code",
      "metadata": {
        "id": "MdyKTA-357MB"
      },
      "source": [
        "df.head(5)"
      ],
      "execution_count": null,
      "outputs": []
    },
    {
      "cell_type": "code",
      "metadata": {
        "id": "NAfZA14Y8khm"
      },
      "source": [
        "sns.pairplot(df)"
      ],
      "execution_count": null,
      "outputs": []
    },
    {
      "cell_type": "code",
      "metadata": {
        "id": "N2E2qrZu-5RK"
      },
      "source": [
        "from pycaret.anomaly import *"
      ],
      "execution_count": null,
      "outputs": []
    },
    {
      "cell_type": "code",
      "metadata": {
        "id": "XPr74d32BLs9"
      },
      "source": [
        "exp_1 = setup(df,session_id=121,experiment_name='Anomaly1')"
      ],
      "execution_count": null,
      "outputs": []
    },
    {
      "cell_type": "code",
      "metadata": {
        "id": "Xql4vErvfp41"
      },
      "source": [
        "exp_2=setup(df,experiment_name=\"1st_anomaly\",session_id=441)"
      ],
      "execution_count": null,
      "outputs": []
    },
    {
      "cell_type": "code",
      "metadata": {
        "id": "uQIzuMRWkcGH"
      },
      "source": [
        "models()"
      ],
      "execution_count": null,
      "outputs": []
    },
    {
      "cell_type": "code",
      "metadata": {
        "id": "aZaZ_-cVk-xO"
      },
      "source": [
        "iforest=create_model('iforest')\n",
        "print(iforest)"
      ],
      "execution_count": null,
      "outputs": []
    },
    {
      "cell_type": "code",
      "metadata": {
        "id": "wX3S9xw4wPPS"
      },
      "source": [
        "lof=create_model('lof')\n",
        "print(lof)"
      ],
      "execution_count": null,
      "outputs": []
    },
    {
      "cell_type": "code",
      "metadata": {
        "id": "IYnuKFf7xj6y"
      },
      "source": [
        "knn = create_model('knn')"
      ],
      "execution_count": null,
      "outputs": []
    },
    {
      "cell_type": "code",
      "metadata": {
        "id": "mgoYymlS1WCe"
      },
      "source": [
        "print(knn)"
      ],
      "execution_count": null,
      "outputs": []
    },
    {
      "cell_type": "code",
      "metadata": {
        "id": "fI0Gxbsy1Y2L"
      },
      "source": [
        "iforest_results = assign_model(iforest)\n",
        "iforest_results.head()"
      ],
      "execution_count": null,
      "outputs": []
    },
    {
      "cell_type": "code",
      "metadata": {
        "id": "fCHfYc_SLos6"
      },
      "source": [
        "lof_results = assign_model(lof)\n",
        "lof_results.head()"
      ],
      "execution_count": null,
      "outputs": []
    },
    {
      "cell_type": "code",
      "metadata": {
        "id": "9Ajgh-ZnMAAI"
      },
      "source": [
        "knn_results = assign_model(knn)\n",
        "knn_results.head()"
      ],
      "execution_count": null,
      "outputs": []
    },
    {
      "cell_type": "code",
      "metadata": {
        "id": "i1uIB5k_Meek"
      },
      "source": [
        "iforest_anomaly = iforest_results[iforest_results['Anomaly']==1]\n",
        "iforest_anomaly.shape"
      ],
      "execution_count": null,
      "outputs": []
    },
    {
      "cell_type": "code",
      "metadata": {
        "id": "SMyMZI1zOMYu"
      },
      "source": [
        "lof_anomaly = lof_results[lof_results['Anomaly']==1]\n",
        "lof_anomaly.shape"
      ],
      "execution_count": null,
      "outputs": []
    },
    {
      "cell_type": "code",
      "metadata": {
        "id": "kYTrT35pOOrm"
      },
      "source": [
        "knn_anomaly = knn_results[knn_results['Anomaly']==1]\n",
        "knn_anomaly.shape"
      ],
      "execution_count": null,
      "outputs": []
    },
    {
      "cell_type": "code",
      "metadata": {
        "id": "E-b1uxcvOxoH"
      },
      "source": [
        "from yellowbrick.features import Manifold\n",
        "## 上面这行代码成功运行需要将scipy==5.1.2\n",
        "dfr = iforest_results['Anomaly']"
      ],
      "execution_count": null,
      "outputs": []
    },
    {
      "cell_type": "code",
      "metadata": {
        "id": "qfr88piET9fd"
      },
      "source": [
        "vis = Manifold(manifold='tsne')\n",
        "vis.fit_transform(df,dfr)\n",
        "vis.show()"
      ],
      "execution_count": null,
      "outputs": []
    },
    {
      "cell_type": "code",
      "metadata": {
        "id": "-U93Wy1r4QW_"
      },
      "source": [
        "plot_model(knn)"
      ],
      "execution_count": null,
      "outputs": []
    },
    {
      "cell_type": "code",
      "metadata": {
        "id": "1-8rzUPJQY--"
      },
      "source": [
        "plot_model(iforest)"
      ],
      "execution_count": null,
      "outputs": []
    },
    {
      "cell_type": "code",
      "metadata": {
        "id": "-qeJzzRmSbxT"
      },
      "source": [
        "plot_model(lof,plot='umap')"
      ],
      "execution_count": null,
      "outputs": []
    },
    {
      "cell_type": "code",
      "metadata": {
        "id": "Ir9qWEmJUSb3"
      },
      "source": [
        "sns.pairplot(lof_results, hue = 'Anomaly')"
      ],
      "execution_count": null,
      "outputs": []
    },
    {
      "cell_type": "code",
      "metadata": {
        "id": "BmSPdwloVwxA"
      },
      "source": [
        "save_model(iforest, 'Iso_forest')"
      ],
      "execution_count": null,
      "outputs": []
    },
    {
      "cell_type": "code",
      "metadata": {
        "id": "zOfq-klSXVVZ"
      },
      "source": [
        ""
      ],
      "execution_count": null,
      "outputs": []
    }
  ]
}